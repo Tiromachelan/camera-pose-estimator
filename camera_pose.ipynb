{
  "nbformat": 4,
  "nbformat_minor": 0,
  "metadata": {
    "colab": {
      "provenance": []
    },
    "kernelspec": {
      "name": "python3",
      "display_name": "Python 3"
    },
    "language_info": {
      "name": "python"
    }
  },
  "cells": [
    {
      "cell_type": "markdown",
      "source": [
        "## Setup"
      ],
      "metadata": {
        "id": "G5s843OCCmnv"
      }
    },
    {
      "cell_type": "code",
      "source": [
        "import numpy as np\n",
        "import cv2 as cv\n",
        "import glob\n",
        "from pathlib import Path\n",
        "import json\n",
        "import gradio as gr\n",
        "import os\n",
        "\n",
        "\n",
        "# Download the images\n",
        "def in_colab() -> bool:\n",
        "    try:\n",
        "        import google.colab\n",
        "        return True\n",
        "    except Exception:\n",
        "        return False\n",
        "\n",
        "REPO_URL = \"https://github.com/Tiromachelan/camera-pose-estimator\"\n",
        "\n",
        "if in_colab():\n",
        "  if not Path(\"camera-pose-estimator/images\").exists():\n",
        "    !git clone {REPO_URL}"
      ],
      "metadata": {
        "id": "AL4a1qfzCopu",
        "colab": {
          "base_uri": "https://localhost:8080/"
        },
        "outputId": "c5559cde-3780-4e45-ee40-63c90d077a69"
      },
      "execution_count": 1,
      "outputs": [
        {
          "output_type": "stream",
          "name": "stdout",
          "text": [
            "Cloning into 'camera-pose-estimator'...\n",
            "remote: Enumerating objects: 49, done.\u001b[K\n",
            "remote: Counting objects: 100% (22/22), done.\u001b[K\n",
            "remote: Compressing objects: 100% (22/22), done.\u001b[K\n",
            "remote: Total 49 (delta 10), reused 1 (delta 0), pack-reused 27 (from 2)\u001b[K\n",
            "Receiving objects: 100% (49/49), 77.34 MiB | 37.08 MiB/s, done.\n",
            "Resolving deltas: 100% (10/10), done.\n"
          ]
        }
      ]
    },
    {
      "cell_type": "markdown",
      "source": [
        "## Calibration"
      ],
      "metadata": {
        "id": "GoTpoxngChX0"
      }
    },
    {
      "cell_type": "code",
      "execution_count": 2,
      "metadata": {
        "colab": {
          "base_uri": "https://localhost:8080/",
          "height": 500
        },
        "id": "R7KtYIwDBXfQ",
        "outputId": "40190c14-78ac-49e7-d782-4a68da7bddc5"
      },
      "outputs": [
        {
          "output_type": "stream",
          "name": "stdout",
          "text": [
            "calibrating data in folder camera-pose-estimator/images\n",
            "Processed camera-pose-estimator/images/DSCN0496.jpeg\n",
            "Processed camera-pose-estimator/images/DSCN0488.jpeg\n",
            "Processed camera-pose-estimator/images/DSCN0493.jpeg\n",
            "Processed camera-pose-estimator/images/DSCN0484.jpeg\n",
            "Processed camera-pose-estimator/images/DSCN0494.jpeg\n",
            "Processed camera-pose-estimator/images/DSCN0503.jpeg\n",
            "Processed camera-pose-estimator/images/DSCN0501.jpeg\n",
            "Processed camera-pose-estimator/images/DSCN0486.jpeg\n",
            "Processed camera-pose-estimator/images/DSCN0492.jpeg\n",
            "Processed camera-pose-estimator/images/DSCN0497.jpeg\n",
            "Processed camera-pose-estimator/images/DSCN0495.jpeg\n",
            "Processed camera-pose-estimator/images/DSCN0504.jpeg\n",
            "Processed camera-pose-estimator/images/DSCN0489.jpeg\n",
            "Processed camera-pose-estimator/images/DSCN0490.jpeg\n",
            "Processed camera-pose-estimator/images/DSCN0499.jpeg\n",
            "Processed camera-pose-estimator/images/DSCN0485.jpeg\n",
            "Processed camera-pose-estimator/images/DSCN0498.jpeg\n",
            "Processed camera-pose-estimator/images/DSCN0487.jpeg\n",
            "Processed camera-pose-estimator/images/DSCN0483.jpeg\n",
            "Processed camera-pose-estimator/images/DSCN0502.jpeg\n"
          ]
        },
        {
          "output_type": "execute_result",
          "data": {
            "text/plain": [
              "'{\\n    \"return_value\": 0.6168792517672367,\\n    \"camera_matrix\": [\\n        [\\n            3036.3082838282326,\\n            0.0,\\n            2283.839440218415\\n        ],\\n        [\\n            0.0,\\n            3037.1664454844317,\\n            1645.1669879924336\\n        ],\\n        [\\n            0.0,\\n            0.0,\\n            1.0\\n        ]\\n    ],\\n    \"distortion_coefficients\": [\\n        [\\n            0.030416992808485522,\\n            -0.19095458897180814,\\n            -0.007194285864490831,\\n            -0.00042200105945093357,\\n            0.5365694454287399\\n        ]\\n    ],\\n    \"rotation_vectors\": [\\n        [\\n            [\\n                -0.4744768682545753\\n            ],\\n            [\\n                0.893204476390041\\n            ],\\n            [\\n                1.9840092782228569\\n            ]\\n        ],\\n        [\\n            [\\n                -0.6634139948421977\\n            ],\\n            [\\n                0.6145425384448326\\n            ],\\n            [\\n                1.4372593305102086\\n            ]\\n        ],\\n        [\\n            [\\n                -0.4740933271159254\\n            ],\\n            [\\n                -1.1828623644488478\\n            ],\\n            [\\n                -2.124006588773953\\n            ]\\n        ],\\n        [\\n            [\\n                -0.14807274382224211\\n            ],\\n            [\\n                1.170968348441126\\n            ],\\n            [\\n                2.894888935464762\\n            ]\\n        ],\\n        [\\n            [\\n                -0.4693615230638945\\n            ],\\n            [\\n                -0.8914567424029864\\n            ],\\n            [\\n                -2.5871230892687467\\n            ]\\n        ],\\n        [\\n            [\\n                -0.3524682639641458\\n            ],\\n            [\\n                -0.6987916319666932\\n            ],\\n            [\\n                -2.487855202014407\\n            ]\\n        ],\\n        [\\n            [\\n                -0.7712819034209673\\n            ],\\n            [\\n                0.027424002218008142\\n            ],\\n            [\\n                -0.26973949129001085\\n            ]\\n        ],\\n        [\\n            [\\n                -0.6329886095023458\\n            ],\\n            [\\n                0.7059950388712125\\n            ],\\n            [\\n                1.4545838894936174\\n            ]\\n        ],\\n        [\\n            [\\n                -0.2390048899219664\\n            ],\\n            [\\n                1.0493368657810593\\n            ],\\n            [\\n                2.913990358107767\\n            ]\\n        ],\\n        [\\n            [\\n                -0.1977270225293814\\n            ],\\n            [\\n                0.6230464066661238\\n            ],\\n            [\\n                1.958670736195383\\n            ]\\n        ],\\n        [\\n            [\\n                -0.2825707058794674\\n            ],\\n            [\\n                -0.8299218889926137\\n            ],\\n            [\\n                -2.8054206442882172\\n            ]\\n        ],\\n        [\\n            [\\n                -0.3581114876644658\\n            ],\\n            [\\n                -1.3279346221328487\\n            ],\\n            [\\n                -2.6212925735325006\\n            ]\\n        ],\\n        [\\n            [\\n                -0.9022072653764875\\n            ],\\n            [\\n                0.8104884344244472\\n            ],\\n            [\\n                1.3730196980194456\\n            ]\\n        ],\\n        [\\n            [\\n                -0.245213848716677\\n            ],\\n            [\\n                1.426835346191286\\n            ],\\n            [\\n                2.7049721994342852\\n            ]\\n        ],\\n        [\\n            [\\n                -0.4295612419752795\\n            ],\\n            [\\n                0.21222191507219665\\n            ],\\n            [\\n                0.7975741806323391\\n            ]\\n        ],\\n        [\\n            [\\n                -0.2145913763871417\\n            ],\\n            [\\n                0.5149754162883902\\n            ],\\n            [\\n                3.0375139497404655\\n            ]\\n        ],\\n        [\\n            [\\n                -0.35469632877842605\\n            ],\\n            [\\n                0.942813094481193\\n            ],\\n            [\\n                2.0668873629199047\\n            ]\\n        ],\\n        [\\n            [\\n                -0.7848615492050698\\n            ],\\n            [\\n                0.37204373433454135\\n            ],\\n            [\\n                0.1052832366674964\\n            ]\\n        ],\\n        [\\n            [\\n                -0.3492706009073797\\n            ],\\n            [\\n                0.9381067113780653\\n            ],\\n            [\\n                2.3489188564072134\\n            ]\\n        ],\\n        [\\n            [\\n                0.0204253923972729\\n            ],\\n            [\\n                -0.5982249894915862\\n            ],\\n            [\\n                -3.0745172604366138\\n            ]\\n        ]\\n    ],\\n    \"translation_vectors\": [\\n        [\\n            [\\n                3.6384123318080723\\n            ],\\n            [\\n                0.22275491141379636\\n            ],\\n            [\\n                19.727498522081756\\n            ]\\n        ],\\n        [\\n            [\\n                2.8513477556626357\\n            ],\\n            [\\n                -4.3385366791675155\\n            ],\\n            [\\n                35.6298931796585\\n            ]\\n        ],\\n        [\\n            [\\n                0.7072982329624572\\n            ],\\n            [\\n                2.772399609745419\\n            ],\\n            [\\n                14.702973155076032\\n            ]\\n        ],\\n        [\\n            [\\n                4.499606499586282\\n            ],\\n            [\\n                3.243915383605712\\n            ],\\n            [\\n                33.391389292899866\\n            ]\\n        ],\\n        [\\n            [\\n                2.2553786833881033\\n            ],\\n            [\\n                2.954107611552686\\n            ],\\n            [\\n                11.04001095717331\\n            ]\\n        ],\\n        [\\n            [\\n                0.6186515820198999\\n            ],\\n            [\\n                2.901117570215363\\n            ],\\n            [\\n                19.924801940311507\\n            ]\\n        ],\\n        [\\n            [\\n                -1.8456707314292502\\n            ],\\n            [\\n                -1.9877903034893851\\n            ],\\n            [\\n                22.85339902404055\\n            ]\\n        ],\\n        [\\n            [\\n                2.9426080387679963\\n            ],\\n            [\\n                -3.5921820373472073\\n            ],\\n            [\\n                33.60459347910339\\n            ]\\n        ],\\n        [\\n            [\\n                3.881325487366006\\n            ],\\n            [\\n                1.9529118808497263\\n            ],\\n            [\\n                19.071371366823055\\n            ]\\n        ],\\n        [\\n            [\\n                4.832221650341102\\n            ],\\n            [\\n                0.11237913547037676\\n            ],\\n            [\\n                24.07705001163103\\n            ]\\n        ],\\n        [\\n            [\\n                3.142686601577809\\n            ],\\n            [\\n                2.0681893525783983\\n            ],\\n            [\\n                18.869013522337127\\n            ]\\n        ],\\n        [\\n            [\\n                1.6586736488820046\\n            ],\\n            [\\n                0.9746419533942324\\n            ],\\n            [\\n                21.291840306297914\\n            ]\\n        ],\\n        [\\n            [\\n                2.6540110443142058\\n            ],\\n            [\\n                -2.8563825180622744\\n            ],\\n            [\\n                22.46205415543613\\n            ]\\n        ],\\n        [\\n            [\\n                3.9975803383753807\\n            ],\\n            [\\n                1.4179467059835056\\n            ],\\n            [\\n                11.059366083950065\\n            ]\\n        ],\\n        [\\n            [\\n                -2.599581952415574\\n            ],\\n            [\\n                -8.489085381936773\\n            ],\\n            [\\n                20.6172106510176\\n            ]\\n        ],\\n        [\\n            [\\n                4.877460348938321\\n            ],\\n            [\\n                2.9528544154955965\\n            ],\\n            [\\n                36.18870699705485\\n            ]\\n        ],\\n        [\\n            [\\n                4.981175759452863\\n            ],\\n            [\\n                2.2038907412376614\\n            ],\\n            [\\n                51.079555314168445\\n            ]\\n        ],\\n        [\\n            [\\n                -4.268916453316073\\n            ],\\n            [\\n                -0.39025305623724854\\n            ],\\n            [\\n                38.53384771156956\\n            ]\\n        ],\\n        [\\n            [\\n                6.686452531479236\\n            ],\\n            [\\n                0.7774707173923763\\n            ],\\n            [\\n                36.28766878944419\\n            ]\\n        ],\\n        [\\n            [\\n                4.663534065439559\\n            ],\\n            [\\n                2.1872924984920576\\n            ],\\n            [\\n                22.24019338758798\\n            ]\\n        ]\\n    ],\\n    \"image_paths\": [\\n        \"camera-pose-estimator/images/DSCN0496.jpeg\",\\n        \"camera-pose-estimator/images/DSCN0488.jpeg\",\\n        \"camera-pose-estimator/images/DSCN0493.jpeg\",\\n        \"camera-pose-estimator/images/DSCN0484.jpeg\",\\n        \"camera-pose-estimator/images/DSCN0494.jpeg\",\\n        \"camera-pose-estimator/images/DSCN0503.jpeg\",\\n        \"camera-pose-estimator/images/DSCN0501.jpeg\",\\n        \"camera-pose-estimator/images/DSCN0486.jpeg\",\\n        \"camera-pose-estimator/images/DSCN0492.jpeg\",\\n        \"camera-pose-estimator/images/DSCN0497.jpeg\",\\n        \"camera-pose-estimator/images/DSCN0495.jpeg\",\\n        \"camera-pose-estimator/images/DSCN0504.jpeg\",\\n        \"camera-pose-estimator/images/DSCN0489.jpeg\",\\n        \"camera-pose-estimator/images/DSCN0490.jpeg\",\\n        \"camera-pose-estimator/images/DSCN0499.jpeg\",\\n        \"camera-pose-estimator/images/DSCN0485.jpeg\",\\n        \"camera-pose-estimator/images/DSCN0498.jpeg\",\\n        \"camera-pose-estimator/images/DSCN0487.jpeg\",\\n        \"camera-pose-estimator/images/DSCN0483.jpeg\",\\n        \"camera-pose-estimator/images/DSCN0502.jpeg\"\\n    ]\\n}'"
            ],
            "application/vnd.google.colaboratory.intrinsic+json": {
              "type": "string"
            }
          },
          "metadata": {},
          "execution_count": 2
        }
      ],
      "source": [
        "class Calibration:\n",
        "    @staticmethod\n",
        "    def calibrateCamera(image_files):\n",
        "        print(f\"calibrating data in folder {image_files}\")\n",
        "        # termination criteria\n",
        "        criteria = (cv.TERM_CRITERIA_EPS + cv.TERM_CRITERIA_MAX_ITER, 30, 0.001)\n",
        "\n",
        "        # prepare object points, like (0,0,0), (1,0,0), (2,0,0) ....,(6,5,0)\n",
        "        pattern_size = (9, 6)\n",
        "        objp = np.zeros((pattern_size[0] * pattern_size[1], 3), np.float32)\n",
        "        objp[:, :2] = np.mgrid[0:pattern_size[0], 0:pattern_size[1]].T.reshape(-1, 2)\n",
        "        # Arrays to store object points and image points from all the images.\n",
        "        objpoints = [] # 3d point in real world space\n",
        "        imgpoints = [] # 2d points in image plane.\n",
        "\n",
        "        images = glob.glob(image_files + '/*.jpeg')\n",
        "\n",
        "        gray = None\n",
        "        for fname in images:\n",
        "            img = cv.imread(fname)\n",
        "            gray = cv.cvtColor(img, cv.COLOR_BGR2GRAY)\n",
        "            #print(f\"{'processing image '}{fname}\")\n",
        "\n",
        "            # Find the chess board corners\n",
        "            ret, corners = cv.findChessboardCorners(gray, pattern_size, None)\n",
        "\n",
        "            # If found, add object points, image points (after refining them)\n",
        "            if ret == True:\n",
        "                print(f\"{\"Processed \"}{fname}\")\n",
        "                objpoints.append(objp)\n",
        "\n",
        "                corners2 = cv.cornerSubPix(gray,corners, (11,11), (-1,-1), criteria)\n",
        "                imgpoints.append(corners2)\n",
        "        return(cv.calibrateCamera(objpoints, imgpoints, gray.shape[::-1], None, None))\n",
        "\n",
        "class NumpyEncoder(json.JSONEncoder):\n",
        "    def default(self, obj):\n",
        "        if isinstance(obj, np.ndarray):\n",
        "            return obj.tolist()\n",
        "        return json.JSONEncoder.default(self, obj)\n",
        "\n",
        "def calibrate_and_display(folder_path):\n",
        "    ret, mtx, dist, rvecs, tvecs = Calibration.calibrateCamera(folder_path)\n",
        "\n",
        "    files = glob.glob(os.path.join(folder_path, \"*.jpeg\")) + glob.glob(os.path.join(folder_path, \"*.JPEG\"))\n",
        "\n",
        "    results = {\n",
        "        \"return_value\": ret,\n",
        "        \"camera_matrix\": mtx,\n",
        "        \"distortion_coefficients\": dist,\n",
        "        \"rotation_vectors\": rvecs,\n",
        "        \"translation_vectors\": tvecs,\n",
        "        \"image_paths\": files\n",
        "    }\n",
        "    json_output = json.dumps(results, cls=NumpyEncoder, indent=4)\n",
        "\n",
        "    with open(\"calibration.json\", \"w\") as f:\n",
        "        f.write(json_output)\n",
        "\n",
        "    return json_output\n",
        "\n",
        "calibrate_and_display(\"camera-pose-estimator/images\")"
      ]
    },
    {
      "cell_type": "code",
      "source": [
        "class calib:\n",
        "  @staticmethod\n",
        "  def load_calibration(jsonPath:str='calibration.json'):\n",
        "    with open(jsonPath, 'r') as file:\n",
        "            calibrationDict = json.load(file)\n",
        "    #extracting k and distance coefficientse\n",
        "    k = calibrationDict['camera_matrix']\n",
        "    distanceCoeff = calibrationDict['distortion_coefficients']\n",
        "    return k, distanceCoeff\n"
      ],
      "metadata": {
        "id": "TcNTc1ggqBip"
      },
      "execution_count": 3,
      "outputs": []
    },
    {
      "cell_type": "code",
      "source": [
        "class Model:\n",
        "  @staticmethod\n",
        "  def load_points(csv_path:str):\n",
        "    points = np.loadtxt(csv_path)\n",
        "    return points"
      ],
      "metadata": {
        "id": "h5Ox-iFMqIOd"
      },
      "execution_count": 4,
      "outputs": []
    },
    {
      "cell_type": "code",
      "source": [
        "\n",
        "def launch_point_picker(my_image):\n",
        "    points_store = []\n",
        "    app = None\n",
        "    SELECTED_POINTS = None\n",
        "\n",
        "    def _to_pil_from_numpy(arr: np.ndarray) -> Image.Image:\n",
        "        arr = np.asarray(arr)\n",
        "        # channel-first -> channel-last\n",
        "        if arr.ndim == 3 and arr.shape[0] in (1,3,4) and arr.shape[-1] not in (1,3,4):\n",
        "            arr = np.transpose(arr, (1,2,0))\n",
        "        if np.issubdtype(arr.dtype, np.floating):\n",
        "            # scale floats in [0,1] to [0,255]\n",
        "            arr = (np.clip(arr, 0.0, 1.0) * 255.0).round().astype(np.uint8)\n",
        "        elif arr.dtype != np.uint8:\n",
        "            arr = np.clip(arr, 0, 255).astype(np.uint8)\n",
        "        # Choose mode\n",
        "        if arr.ndim == 2:\n",
        "            return Image.fromarray(arr, mode=\"L\")\n",
        "        if arr.ndim == 3 and arr.shape[2] == 3:\n",
        "            return Image.fromarray(arr, mode=\"RGB\")\n",
        "        if arr.ndim == 3 and arr.shape[2] == 4:\n",
        "            return Image.fromarray(arr, mode=\"RGBA\")\n",
        "        if arr.ndim == 3 and arr.shape[2] == 1:\n",
        "            return Image.fromarray(arr[:,:,0], mode=\"L\")\n",
        "        raise ValueError(f\"Unsupported array shape: {arr.shape}\")\n",
        "\n",
        "    def _to_pil(img):\n",
        "        if isinstance(img, Image.Image):\n",
        "            return img\n",
        "        if isinstance(img, np.ndarray):\n",
        "            return _to_pil_from_numpy(img)\n",
        "        raise gr.Error(\"Set `my_image` to a PIL image or NumPy array before launching.\")\n",
        "\n",
        "    def _draw_points(base_img: Image.Image, pts, radius=5):\n",
        "        img = base_img.copy().convert(\"RGB\")\n",
        "        d = ImageDraw.Draw(img)\n",
        "        for (x, y) in pts:\n",
        "            d.ellipse([x-radius, y-radius, x+radius, y+radius], outline=(255,0,0), width=2)\n",
        "        return img\n",
        "\n",
        "    # Prepare base image from notebook variable\n",
        "    # if 'my_image' not in globals():\n",
        "        # raise RuntimeError(\"Please define `my_image` (PIL image or NumPy array) before running this cell.\")\n",
        "    # base_pil = _to_pil(globals()['my_image'])\n",
        "    base_pil = _to_pil(my_image)\n",
        "\n",
        "    def _refresh_numpy():\n",
        "        \"\"\"Return current preview (base + points) as numpy for Gradio.\"\"\"\n",
        "        return np.array(_draw_points(base_pil, points_store))\n",
        "\n",
        "    def on_click(evt: gr.SelectData):\n",
        "        # Get coordinates robustly\n",
        "        x = y = None\n",
        "        if hasattr(evt, \"index\") and evt.index is not None:\n",
        "            try: x, y = evt.index\n",
        "            except: pass\n",
        "        if (x is None or y is None) and hasattr(evt, \"x\") and hasattr(evt, \"y\"):\n",
        "            x, y = evt.x, evt.y\n",
        "        if x is None or y is None:\n",
        "            return gr.update(), json.dumps(points_store)\n",
        "\n",
        "        # Clamp to image bounds\n",
        "        w, h = base_pil.size\n",
        "        x = int(max(0, min(w-1, x)))\n",
        "        y = int(max(0, min(h-1, y)))\n",
        "\n",
        "        points_store.append([x, y])\n",
        "        return _refresh_numpy(), json.dumps(points_store)\n",
        "\n",
        "    def undo_last():\n",
        "        if points_store:\n",
        "            points_store.pop()\n",
        "        return _refresh_numpy(), json.dumps(points_store)\n",
        "\n",
        "    def clear_points():\n",
        "        points_store.clear()\n",
        "        return np.array(base_pil), \"[]\"\n",
        "\n",
        "    def done_btn_click():\n",
        "        \"\"\"Save to notebook var `selected_points` and close the app.\"\"\"\n",
        "        global SELECTED_POINTS\n",
        "        SELECTED_POINTS = [list(p) for p in points_store]\n",
        "        try:\n",
        "            ip = get_ipython()\n",
        "            if ip is not None:\n",
        "                ip.user_ns['selected_points'] = SELECTED_POINTS\n",
        "        except Exception:\n",
        "            pass\n",
        "        threading.Thread(target=lambda: app.close(), daemon=True).start()\n",
        "        return f\"✅ Saved {len(SELECTED_POINTS)} points to `selected_points`. Closing…\"\n",
        "\n",
        "    with gr.Blocks(title=\"Point Picker (single image)\") as demo:\n",
        "        gr.Markdown(\"**Click on the image to add points.** Use Undo / Clear as needed, then press **Done**.\")\n",
        "        img = gr.Image(\n",
        "            value=np.array(base_pil), label=\"Image (click to add points)\",\n",
        "            type=\"numpy\", interactive=True, sources=[]  # sources=[] disables uploads\n",
        "        )\n",
        "        with gr.Row():\n",
        "            undo_btn = gr.Button(\"↩️ Undo\")\n",
        "            clear_btn = gr.Button(\"🧹 Clear\")\n",
        "            done_btn = gr.Button(\"✅ Done\", variant=\"primary\")\n",
        "        pts_text = gr.Textbox(label=\"Points (JSON)\", value=\"[]\", interactive=False)\n",
        "        status = gr.Markdown(\"\")\n",
        "\n",
        "        # One image used for both input and output\n",
        "        img.select(on_click, inputs=None, outputs=[img, pts_text])\n",
        "        undo_btn.click(lambda: undo_last(), outputs=[img, pts_text])\n",
        "        clear_btn.click(lambda: clear_points(), outputs=[img, pts_text])\n",
        "        done_btn.click(done_btn_click, outputs=[status])\n",
        "\n",
        "\n",
        "        app = demo.launch(inline=True, prevent_thread_lock=True)\n",
        "        return app"
      ],
      "metadata": {
        "id": "eXeDhLacqJ85"
      },
      "execution_count": 5,
      "outputs": []
    },
    {
      "cell_type": "code",
      "source": [
        "# my_image can be a PIL.Image or a NumPy array (H,W[,C])\n",
        "from PIL import Image\n",
        "my_image = Image.open(\"camera-pose-estimator\" + \"/\" + \"DSCN0851.JPG\")\n",
        "\n",
        "selected_points = []\n",
        "\n",
        "app = launch_point_picker(my_image)   # launches inline, non-blocking\n",
        "\n",
        "# ... later, after clicking points and pressing \"Done\":\n",
        "print(selected_points)  # list of [x, y] pixel coordinates"
      ],
      "metadata": {
        "id": "u6O4WBM7qlU2",
        "outputId": "5bd17aef-e4d0-4b2e-c3ba-a95acb28537b",
        "colab": {
          "base_uri": "https://localhost:8080/",
          "height": 666
        }
      },
      "execution_count": 8,
      "outputs": [
        {
          "output_type": "stream",
          "name": "stdout",
          "text": [
            "It looks like you are running Gradio on a hosted Jupyter notebook, which requires `share=True`. Automatically setting `share=True` (you can turn this off by setting `share=False` in `launch()` explicitly).\n",
            "\n",
            "Colab notebook detected. To show errors in colab notebook, set debug=True in launch()\n",
            "* Running on public URL: https://696343f11241168404.gradio.live\n",
            "\n",
            "This share link expires in 1 week. For free permanent hosting and GPU upgrades, run `gradio deploy` from the terminal in the working directory to deploy to Hugging Face Spaces (https://huggingface.co/spaces)\n"
          ]
        },
        {
          "output_type": "display_data",
          "data": {
            "text/plain": [
              "<IPython.core.display.HTML object>"
            ],
            "text/html": [
              "<div><iframe src=\"https://696343f11241168404.gradio.live\" width=\"100%\" height=\"500\" allow=\"autoplay; camera; microphone; clipboard-read; clipboard-write;\" frameborder=\"0\" allowfullscreen></iframe></div>"
            ]
          },
          "metadata": {}
        },
        {
          "output_type": "stream",
          "name": "stdout",
          "text": [
            "[]\n"
          ]
        }
      ]
    }
  ]
}