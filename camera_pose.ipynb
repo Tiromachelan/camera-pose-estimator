{
  "nbformat": 4,
  "nbformat_minor": 0,
  "metadata": {
    "colab": {
      "provenance": []
    },
    "kernelspec": {
      "name": "python3",
      "display_name": "Python 3"
    },
    "language_info": {
      "name": "python"
    }
  },
  "cells": [
    {
      "cell_type": "markdown",
      "source": [
        "## Setup"
      ],
      "metadata": {
        "id": "G5s843OCCmnv"
      }
    },
    {
      "cell_type": "code",
      "source": [
        "import numpy as np\n",
        "import cv2 as cv\n",
        "import glob\n",
        "from pathlib import Path\n",
        "import json\n",
        "import gradio as gr\n",
        "import os\n",
        "\n",
        "\n",
        "# Download the images\n",
        "def in_colab() -> bool:\n",
        "    try:\n",
        "        import google.colab\n",
        "        return True\n",
        "    except Exception:\n",
        "        return False\n",
        "\n",
        "REPO_URL = \"https://github.com/Tiromachelan/camera-pose-estimator\"\n",
        "\n",
        "if in_colab():\n",
        "  if not Path(\"camera-pose-estimator/images\").exists():\n",
        "    !git clone {REPO_URL}"
      ],
      "metadata": {
        "id": "AL4a1qfzCopu"
      },
      "execution_count": null,
      "outputs": []
    },
    {
      "cell_type": "markdown",
      "source": [
        "## Calibration"
      ],
      "metadata": {
        "id": "GoTpoxngChX0"
      }
    },
    {
      "cell_type": "code",
      "execution_count": null,
      "metadata": {
        "colab": {
          "base_uri": "https://localhost:8080/",
          "height": 518
        },
        "id": "R7KtYIwDBXfQ",
        "outputId": "5f5f16a3-73e9-467b-c037-377507c42d8c"
      },
      "outputs": [
        {
          "output_type": "stream",
          "name": "stdout",
          "text": [
            "calibrating data in folder camera-pose-estimator/images\n",
            "Processed camera-pose-estimator/images/DSCN0496.jpeg\n",
            "Processed camera-pose-estimator/images/DSCN0484.jpeg\n",
            "Processed camera-pose-estimator/images/DSCN0486.jpeg\n",
            "Processed camera-pose-estimator/images/DSCN0504.jpeg\n",
            "Processed camera-pose-estimator/images/DSCN0501.jpeg\n",
            "Processed camera-pose-estimator/images/DSCN0502.jpeg\n",
            "Processed camera-pose-estimator/images/DSCN0497.jpeg\n",
            "Processed camera-pose-estimator/images/DSCN0498.jpeg\n",
            "Processed camera-pose-estimator/images/DSCN0488.jpeg\n",
            "Processed camera-pose-estimator/images/DSCN0483.jpeg\n",
            "Processed camera-pose-estimator/images/DSCN0487.jpeg\n",
            "Processed camera-pose-estimator/images/DSCN0499.jpeg\n",
            "Processed camera-pose-estimator/images/DSCN0495.jpeg\n",
            "Processed camera-pose-estimator/images/DSCN0485.jpeg\n",
            "Processed camera-pose-estimator/images/DSCN0490.jpeg\n",
            "Processed camera-pose-estimator/images/DSCN0494.jpeg\n",
            "Processed camera-pose-estimator/images/DSCN0489.jpeg\n",
            "Processed camera-pose-estimator/images/DSCN0503.jpeg\n",
            "Processed camera-pose-estimator/images/DSCN0493.jpeg\n",
            "Processed camera-pose-estimator/images/DSCN0492.jpeg\n"
          ]
        },
        {
          "output_type": "execute_result",
          "data": {
            "text/plain": [
              "'{\\n    \"return_value\": 0.6168792517672342,\\n    \"camera_matrix\": [\\n        [\\n            3036.308285453977,\\n            0.0,\\n            2283.8394401526543\\n        ],\\n        [\\n            0.0,\\n            3037.1664461337955,\\n            1645.166985135081\\n        ],\\n        [\\n            0.0,\\n            0.0,\\n            1.0\\n        ]\\n    ],\\n    \"distortion_coefficients\": [\\n        [\\n            0.030416991383825545,\\n            -0.19095457258449586,\\n            -0.007194285898023687,\\n            -0.00042200107268990995,\\n            0.5365693954294233\\n        ]\\n    ],\\n    \"rotation_vectors\": [\\n        [\\n            [\\n                -0.47447686858139637\\n            ],\\n            [\\n                0.8932044770496111\\n            ],\\n            [\\n                1.9840092780013256\\n            ]\\n        ],\\n        [\\n            [\\n                -0.1480727438912805\\n            ],\\n            [\\n                1.170968349313555\\n            ],\\n            [\\n                2.894888935170875\\n            ]\\n        ],\\n        [\\n            [\\n                -0.6329886099579958\\n            ],\\n            [\\n                0.7059950393976703\\n            ],\\n            [\\n                1.4545838893165899\\n            ]\\n        ],\\n        [\\n            [\\n                -0.3581114878870926\\n            ],\\n            [\\n                -1.3279346230784073\\n            ],\\n            [\\n                -2.621292573142878\\n            ]\\n        ],\\n        [\\n            [\\n                -0.7712819040200307\\n            ],\\n            [\\n                0.027424002260406137\\n            ],\\n            [\\n                -0.2697394913245123\\n            ]\\n        ],\\n        [\\n            [\\n                0.020425392405856346\\n            ],\\n            [\\n                -0.5982249896699585\\n            ],\\n            [\\n                -3.0745172603896527\\n            ]\\n        ],\\n        [\\n            [\\n                -0.1977270225861869\\n            ],\\n            [\\n                0.6230464071589116\\n            ],\\n            [\\n                1.958670736035158\\n            ]\\n        ],\\n        [\\n            [\\n                -0.354696329035068\\n            ],\\n            [\\n                0.9428130951600194\\n            ],\\n            [\\n                2.066887362660926\\n            ]\\n        ],\\n        [\\n            [\\n                -0.6634139953138115\\n            ],\\n            [\\n                0.6145425389174446\\n            ],\\n            [\\n                1.437259330386465\\n            ]\\n        ],\\n        [\\n            [\\n                -0.34927060114374114\\n            ],\\n            [\\n                0.9381067120940919\\n            ],\\n            [\\n                2.3489188561927614\\n            ]\\n        ],\\n        [\\n            [\\n                -0.7848615498376331\\n            ],\\n            [\\n                0.3720437345566521\\n            ],\\n            [\\n                0.10528323648718764\\n            ]\\n        ],\\n        [\\n            [\\n                -0.4295612422176512\\n            ],\\n            [\\n                0.21222191527097123\\n            ],\\n            [\\n                0.797574180610847\\n            ]\\n        ],\\n        [\\n            [\\n                -0.2825707061611799\\n            ],\\n            [\\n                -0.8299218896077503\\n            ],\\n            [\\n                -2.8054206441578895\\n            ]\\n        ],\\n        [\\n            [\\n                -0.2145913768569845\\n            ],\\n            [\\n                0.514975416461294\\n            ],\\n            [\\n                3.037513949753494\\n            ]\\n        ],\\n        [\\n            [\\n                -0.2452138488086626\\n            ],\\n            [\\n                1.4268353471846777\\n            ],\\n            [\\n                2.704972199005145\\n            ]\\n        ],\\n        [\\n            [\\n                -0.4693615234388093\\n            ],\\n            [\\n                -0.8914567431111363\\n            ],\\n            [\\n                -2.5871230891085766\\n            ]\\n        ],\\n        [\\n            [\\n                -0.9022072659788274\\n            ],\\n            [\\n                0.8104884350103477\\n            ],\\n            [\\n                1.3730196978098872\\n            ]\\n        ],\\n        [\\n            [\\n                -0.35246826426229727\\n            ],\\n            [\\n                -0.6987916324668281\\n            ],\\n            [\\n                -2.487855201924824\\n            ]\\n        ],\\n        [\\n            [\\n                -0.4740933274628941\\n            ],\\n            [\\n                -1.1828623652486565\\n            ],\\n            [\\n                -2.1240065883988373\\n            ]\\n        ],\\n        [\\n            [\\n                -0.23900489007939835\\n            ],\\n            [\\n                1.0493368665949228\\n            ],\\n            [\\n                2.9139903578921196\\n            ]\\n        ]\\n    ],\\n    \"translation_vectors\": [\\n        [\\n            [\\n                3.6384123322389708\\n            ],\\n            [\\n                0.22275493004589716\\n            ],\\n            [\\n                19.727498531837\\n            ]\\n        ],\\n        [\\n            [\\n                4.499606500295889\\n            ],\\n            [\\n                3.2439154161311365\\n            ],\\n            [\\n                33.391389309250904\\n            ]\\n        ],\\n        [\\n            [\\n                2.9426080394995644\\n            ],\\n            [\\n                -3.5921820069895727\\n            ],\\n            [\\n                33.604593496343064\\n            ]\\n        ],\\n        [\\n            [\\n                1.6586736493353618\\n            ],\\n            [\\n                0.9746419737519322\\n            ],\\n            [\\n                21.291840316958186\\n            ]\\n        ],\\n        [\\n            [\\n                -1.8456707308778333\\n            ],\\n            [\\n                -1.9877902826567293\\n            ],\\n            [\\n                22.853399035132664\\n            ]\\n        ],\\n        [\\n            [\\n                4.663534065929356\\n            ],\\n            [\\n                2.1872925201545157\\n            ],\\n            [\\n                22.240193398641694\\n            ]\\n        ],\\n        [\\n            [\\n                4.832221650744143\\n            ],\\n            [\\n                0.11237915814306737\\n            ],\\n            [\\n                24.07705002272617\\n            ]\\n        ],\\n        [\\n            [\\n                4.981175760547989\\n            ],\\n            [\\n                2.203890790060149\\n            ],\\n            [\\n                51.07955534004347\\n            ]\\n        ],\\n        [\\n            [\\n                2.8513477564414185\\n            ],\\n            [\\n                -4.338536647185142\\n            ],\\n            [\\n                35.629893197979264\\n            ]\\n        ],\\n        [\\n            [\\n                6.686452532264346\\n            ],\\n            [\\n                0.777470751807652\\n            ],\\n            [\\n                36.28766880741365\\n            ]\\n        ],\\n        [\\n            [\\n                -4.268916452260931\\n            ],\\n            [\\n                -0.3902530201093987\\n            ],\\n            [\\n                38.533847729390175\\n            ]\\n        ],\\n        [\\n            [\\n                -2.5995819518926253\\n            ],\\n            [\\n                -8.489085365349961\\n            ],\\n            [\\n                20.617210661593823\\n            ]\\n        ],\\n        [\\n            [\\n                3.1426866019350728\\n            ],\\n            [\\n                2.0681893710159915\\n            ],\\n            [\\n                18.869013530894563\\n            ]\\n        ],\\n        [\\n            [\\n                4.877460349550436\\n            ],\\n            [\\n                2.952854450423855\\n            ],\\n            [\\n                36.18870701458327\\n            ]\\n        ],\\n        [\\n            [\\n                3.997580338575571\\n            ],\\n            [\\n                1.4179467168835014\\n            ],\\n            [\\n                11.059366088988158\\n            ]\\n        ],\\n        [\\n            [\\n                2.2553786835740937\\n            ],\\n            [\\n                2.9541076228828107\\n            ],\\n            [\\n                11.040010961830093\\n            ]\\n        ],\\n        [\\n            [\\n                2.6540110447906717\\n            ],\\n            [\\n                -2.8563824978570684\\n            ],\\n            [\\n                22.462054165985826\\n            ]\\n        ],\\n        [\\n            [\\n                0.6186515824748763\\n            ],\\n            [\\n                2.9011175899337323\\n            ],\\n            [\\n                19.924801949650274\\n            ]\\n        ],\\n        [\\n            [\\n                0.7072982332865512\\n            ],\\n            [\\n                2.7723996245386684\\n            ],\\n            [\\n                14.702973162400923\\n            ]\\n        ],\\n        [\\n            [\\n                3.8813254877310794\\n            ],\\n            [\\n                1.9529118994352948\\n            ],\\n            [\\n                19.071371375608777\\n            ]\\n        ]\\n    ],\\n    \"image_paths\": [\\n        \"camera-pose-estimator/images/DSCN0496.jpeg\",\\n        \"camera-pose-estimator/images/DSCN0484.jpeg\",\\n        \"camera-pose-estimator/images/DSCN0486.jpeg\",\\n        \"camera-pose-estimator/images/DSCN0504.jpeg\",\\n        \"camera-pose-estimator/images/DSCN0501.jpeg\",\\n        \"camera-pose-estimator/images/DSCN0502.jpeg\",\\n        \"camera-pose-estimator/images/DSCN0497.jpeg\",\\n        \"camera-pose-estimator/images/DSCN0498.jpeg\",\\n        \"camera-pose-estimator/images/DSCN0488.jpeg\",\\n        \"camera-pose-estimator/images/DSCN0483.jpeg\",\\n        \"camera-pose-estimator/images/DSCN0487.jpeg\",\\n        \"camera-pose-estimator/images/DSCN0499.jpeg\",\\n        \"camera-pose-estimator/images/DSCN0495.jpeg\",\\n        \"camera-pose-estimator/images/DSCN0485.jpeg\",\\n        \"camera-pose-estimator/images/DSCN0490.jpeg\",\\n        \"camera-pose-estimator/images/DSCN0494.jpeg\",\\n        \"camera-pose-estimator/images/DSCN0489.jpeg\",\\n        \"camera-pose-estimator/images/DSCN0503.jpeg\",\\n        \"camera-pose-estimator/images/DSCN0493.jpeg\",\\n        \"camera-pose-estimator/images/DSCN0492.jpeg\"\\n    ]\\n}'"
            ],
            "application/vnd.google.colaboratory.intrinsic+json": {
              "type": "string"
            }
          },
          "metadata": {},
          "execution_count": 2
        }
      ],
      "source": [
        "class Calibration:\n",
        "    @staticmethod\n",
        "    def calibrateCamera(image_files):\n",
        "        print(f\"calibrating data in folder {image_files}\")\n",
        "        # termination criteria\n",
        "        criteria = (cv.TERM_CRITERIA_EPS + cv.TERM_CRITERIA_MAX_ITER, 30, 0.001)\n",
        "\n",
        "        # prepare object points, like (0,0,0), (1,0,0), (2,0,0) ....,(6,5,0)\n",
        "        pattern_size = (9, 6)\n",
        "        objp = np.zeros((pattern_size[0] * pattern_size[1], 3), np.float32)\n",
        "        objp[:, :2] = np.mgrid[0:pattern_size[0], 0:pattern_size[1]].T.reshape(-1, 2)\n",
        "        # Arrays to store object points and image points from all the images.\n",
        "        objpoints = [] # 3d point in real world space\n",
        "        imgpoints = [] # 2d points in image plane.\n",
        "\n",
        "        images = glob.glob(image_files + '/*.jpeg')\n",
        "\n",
        "        gray = None\n",
        "        for fname in images:\n",
        "            img = cv.imread(fname)\n",
        "            gray = cv.cvtColor(img, cv.COLOR_BGR2GRAY)\n",
        "            #print(f\"{'processing image '}{fname}\")\n",
        "\n",
        "            # Find the chess board corners\n",
        "            ret, corners = cv.findChessboardCorners(gray, pattern_size, None)\n",
        "\n",
        "            # If found, add object points, image points (after refining them)\n",
        "            if ret == True:\n",
        "                print(f\"{\"Processed \"}{fname}\")\n",
        "                objpoints.append(objp)\n",
        "\n",
        "                corners2 = cv.cornerSubPix(gray,corners, (11,11), (-1,-1), criteria)\n",
        "                imgpoints.append(corners2)\n",
        "        return(cv.calibrateCamera(objpoints, imgpoints, gray.shape[::-1], None, None))\n",
        "\n",
        "class NumpyEncoder(json.JSONEncoder):\n",
        "    def default(self, obj):\n",
        "        if isinstance(obj, np.ndarray):\n",
        "            return obj.tolist()\n",
        "        return json.JSONEncoder.default(self, obj)\n",
        "\n",
        "def calibrate_and_display(folder_path):\n",
        "    ret, mtx, dist, rvecs, tvecs = Calibration.calibrateCamera(folder_path)\n",
        "\n",
        "    files = glob.glob(os.path.join(folder_path, \"*.jpeg\")) + glob.glob(os.path.join(folder_path, \"*.JPEG\"))\n",
        "\n",
        "    results = {\n",
        "        \"return_value\": ret,\n",
        "        \"camera_matrix\": mtx,\n",
        "        \"distortion_coefficients\": dist,\n",
        "        \"rotation_vectors\": rvecs,\n",
        "        \"translation_vectors\": tvecs,\n",
        "        \"image_paths\": files\n",
        "    }\n",
        "    json_output = json.dumps(results, cls=NumpyEncoder, indent=4)\n",
        "\n",
        "    with open(\"calibration.json\", \"w\") as f:\n",
        "        f.write(json_output)\n",
        "\n",
        "    return json_output\n",
        "\n",
        "calibrate_and_display(\"camera-pose-estimator/images\")"
      ]
    },
    {
      "cell_type": "code",
      "source": [
        "class calib:\n",
        "  @staticmethod\n",
        "  def load_calibration(jsonPath:str='calibration.json'):\n",
        "    with open(jsonPath, 'r') as file:\n",
        "            calibrationDict = json.load(file)\n",
        "    #extracting k and distance coefficientse\n",
        "    k = calibrationDict['camera_matrix']\n",
        "    distanceCoeff = calibrationDict['distortion_coefficients']\n",
        "    return k, distanceCoeff\n"
      ],
      "metadata": {
        "id": "TcNTc1ggqBip"
      },
      "execution_count": null,
      "outputs": []
    },
    {
      "cell_type": "code",
      "source": [
        "class Model:\n",
        "  @staticmethod\n",
        "  def load_points(csv_path:str):\n",
        "    points = np.loadtxt(csv_path)\n",
        "    return points"
      ],
      "metadata": {
        "id": "h5Ox-iFMqIOd"
      },
      "execution_count": null,
      "outputs": []
    },
    {
      "cell_type": "code",
      "source": [
        "##---------------------------------------------------\n",
        "#         Gradio interface as a function\n",
        "##---------------------------------------------------\n",
        "\n",
        "def launch_point_picker(my_image):\n",
        "\n",
        "    # --- Single-image point picker using notebook variable `my_image` ---\n",
        "\n",
        "\n",
        "    # Data\n",
        "    points_store = []\n",
        "    app = None\n",
        "    SELECTED_POINTS = None\n",
        "\n",
        "    def _to_pil_from_numpy(arr: np.ndarray) -> Image.Image:\n",
        "        arr = np.asarray(arr)\n",
        "        # channel-first -> channel-last\n",
        "        if arr.ndim == 3 and arr.shape[0] in (1,3,4) and arr.shape[-1] not in (1,3,4):\n",
        "            arr = np.transpose(arr, (1,2,0))\n",
        "        if np.issubdtype(arr.dtype, np.floating):\n",
        "            # scale floats in [0,1] to [0,255]\n",
        "            arr = (np.clip(arr, 0.0, 1.0) * 255.0).round().astype(np.uint8)\n",
        "        elif arr.dtype != np.uint8:\n",
        "            arr = np.clip(arr, 0, 255).astype(np.uint8)\n",
        "        # Choose mode\n",
        "        if arr.ndim == 2:\n",
        "            return Image.fromarray(arr, mode=\"L\")\n",
        "        if arr.ndim == 3 and arr.shape[2] == 3:\n",
        "            return Image.fromarray(arr, mode=\"RGB\")\n",
        "        if arr.ndim == 3 and arr.shape[2] == 4:\n",
        "            return Image.fromarray(arr, mode=\"RGBA\")\n",
        "        if arr.ndim == 3 and arr.shape[2] == 1:\n",
        "            return Image.fromarray(arr[:,:,0], mode=\"L\")\n",
        "        raise ValueError(f\"Unsupported array shape: {arr.shape}\")\n",
        "\n",
        "    def _to_pil(img):\n",
        "        if isinstance(img, Image.Image):\n",
        "            return img\n",
        "        if isinstance(img, np.ndarray):\n",
        "            return _to_pil_from_numpy(img)\n",
        "        raise gr.Error(\"Set `my_image` to a PIL image or NumPy array before launching.\")\n",
        "\n",
        "    def _draw_points(base_img: Image.Image, pts, radius=5):\n",
        "        img = base_img.copy().convert(\"RGB\")\n",
        "        d = ImageDraw.Draw(img)\n",
        "        for (x, y) in pts:\n",
        "            d.ellipse([x-radius, y-radius, x+radius, y+radius], outline=(255,0,0), width=2)\n",
        "        return img\n",
        "\n",
        "    # Prepare base image from notebook variable\n",
        "    # if 'my_image' not in globals():\n",
        "        # raise RuntimeError(\"Please define `my_image` (PIL image or NumPy array) before running this cell.\")\n",
        "    # base_pil = _to_pil(globals()['my_image'])\n",
        "    base_pil = _to_pil(my_image)\n",
        "\n",
        "    def _refresh_numpy():\n",
        "        \"\"\"Return current preview (base + points) as numpy for Gradio.\"\"\"\n",
        "        return np.array(_draw_points(base_pil, points_store))\n",
        "\n",
        "    def on_click(evt: gr.SelectData):\n",
        "        # Get coordinates robustly\n",
        "        x = y = None\n",
        "        if hasattr(evt, \"index\") and evt.index is not None:\n",
        "            try: x, y = evt.index\n",
        "            except: pass\n",
        "        if (x is None or y is None) and hasattr(evt, \"x\") and hasattr(evt, \"y\"):\n",
        "            x, y = evt.x, evt.y\n",
        "        if x is None or y is None:\n",
        "            return gr.update(), json.dumps(points_store)\n",
        "\n",
        "        # Clamp to image bounds\n",
        "        w, h = base_pil.size\n",
        "        x = int(max(0, min(w-1, x)))\n",
        "        y = int(max(0, min(h-1, y)))\n",
        "\n",
        "        points_store.append([x, y])\n",
        "        return _refresh_numpy(), json.dumps(points_store)\n",
        "\n",
        "    def undo_last():\n",
        "        if points_store:\n",
        "            points_store.pop()\n",
        "        return _refresh_numpy(), json.dumps(points_store)\n",
        "\n",
        "    def clear_points():\n",
        "        points_store.clear()\n",
        "        return np.array(base_pil), \"[]\"\n",
        "\n",
        "    def done_btn_click():\n",
        "        \"\"\"Save to notebook var `selected_points` and close the app.\"\"\"\n",
        "        global SELECTED_POINTS\n",
        "        SELECTED_POINTS = [list(p) for p in points_store]\n",
        "        try:\n",
        "            ip = get_ipython()\n",
        "            if ip is not None:\n",
        "                ip.user_ns['selected_points'] = SELECTED_POINTS\n",
        "        except Exception:\n",
        "            pass\n",
        "        threading.Thread(target=lambda: app.close(), daemon=True).start()\n",
        "        return f\"✅ Saved {len(SELECTED_POINTS)} points to `selected_points`. Closing…\"\n",
        "\n",
        "    with gr.Blocks(title=\"Point Picker (single image)\") as demo:\n",
        "        gr.Markdown(\"**Click on the image to add points.** Use Undo / Clear as needed, then press **Done**.\")\n",
        "        img = gr.Image(\n",
        "            value=np.array(base_pil), label=\"Image (click to add points)\",\n",
        "            type=\"numpy\", interactive=True, sources=[]  # sources=[] disables uploads\n",
        "        )\n",
        "        with gr.Row():\n",
        "            undo_btn = gr.Button(\"↩️ Undo\")\n",
        "            clear_btn = gr.Button(\"🧹 Clear\")\n",
        "            done_btn = gr.Button(\"✅ Done\", variant=\"primary\")\n",
        "        pts_text = gr.Textbox(label=\"Points (JSON)\", value=\"[]\", interactive=False)\n",
        "        status = gr.Markdown(\"\")\n",
        "\n",
        "        # One image used for both input and output\n",
        "        img.select(on_click, inputs=None, outputs=[img, pts_text])\n",
        "        undo_btn.click(lambda: undo_last(), outputs=[img, pts_text])\n",
        "        clear_btn.click(lambda: clear_points(), outputs=[img, pts_text])\n",
        "        done_btn.click(done_btn_click, outputs=[status])\n",
        "\n",
        "\n",
        "        app = demo.launch(inline=True, prevent_thread_lock=True)\n",
        "        return app"
      ],
      "metadata": {
        "id": "eXeDhLacqJ85"
      },
      "execution_count": null,
      "outputs": []
    }
  ]
}