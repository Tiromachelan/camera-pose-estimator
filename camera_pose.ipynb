{
  "cells": [
    {
      "cell_type": "markdown",
      "metadata": {
        "id": "G5s843OCCmnv"
      },
      "source": [
        "## Setup"
      ]
    },
    {
      "cell_type": "code",
      "execution_count": null,
      "metadata": {
        "id": "AL4a1qfzCopu"
      },
      "outputs": [],
      "source": [
        "%matplotlib inline\n",
        "import numpy as np\n",
        "import cv2 as cv\n",
        "import glob\n",
        "from pathlib import Path\n",
        "import json\n",
        "import gradio as gr\n",
        "import os\n",
        "from PIL import Image, ImageDraw\n",
        "import threading\n",
        "import matplotlib.pyplot as plt\n",
        "from IPython.display import Image, display\n",
        "\n",
        "\n",
        "\n",
        "# Download the images\n",
        "def in_colab() -> bool:\n",
        "    try:\n",
        "        import google.colab\n",
        "        return True\n",
        "    except Exception:\n",
        "        return False\n",
        "\n",
        "REPO_URL = \"https://github.com/Tiromachelan/camera-pose-estimator\"\n",
        "\n",
        "if in_colab():\n",
        "  if not Path(\"camera-pose-estimator/images\").exists():\n",
        "    !git clone {REPO_URL}\n",
        "    !pip install pytransform3d\n",
        "\n",
        "import pytransform3d.transformations as pt\n",
        "import pytransform3d.camera as pc\n"
      ]
    },
    {
      "cell_type": "markdown",
      "metadata": {
        "id": "GoTpoxngChX0"
      },
      "source": [
        "## Calibration"
      ]
    },
    {
      "cell_type": "code",
      "execution_count": null,
      "metadata": {
        "colab": {
          "base_uri": "https://localhost:8080/"
        },
        "id": "R7KtYIwDBXfQ",
        "outputId": "f9d621f3-4082-4682-876c-9744f71988af"
      },
      "outputs": [
        {
          "name": "stdout",
          "output_type": "stream",
          "text": [
            "calibrating data in folder images\n",
            "Processed images/DSCN0504.jpeg\n",
            "Processed images/DSCN0494.jpeg\n",
            "Processed images/DSCN0498.jpeg\n",
            "Processed images/DSCN0499.jpeg\n",
            "Processed images/DSCN0495.jpeg\n",
            "Processed images/DSCN0483.jpeg\n",
            "Processed images/DSCN0488.jpeg\n",
            "Processed images/DSCN0502.jpeg\n",
            "Processed images/DSCN0484.jpeg\n",
            "Processed images/DSCN0492.jpeg\n",
            "Processed images/DSCN0493.jpeg\n",
            "Processed images/DSCN0485.jpeg\n",
            "Processed images/DSCN0503.jpeg\n",
            "Processed images/DSCN0489.jpeg\n",
            "Processed images/DSCN0490.jpeg\n",
            "Processed images/DSCN0486.jpeg\n",
            "Processed images/DSCN0501.jpeg\n",
            "Processed images/DSCN0487.jpeg\n",
            "Processed images/DSCN0496.jpeg\n",
            "Processed images/DSCN0497.jpeg\n"
          ]
        }
      ],
      "source": [
        "class Calibration:\n",
        "    @staticmethod\n",
        "    def calibrateCamera(image_files):\n",
        "        print(f\"calibrating data in folder {image_files}\")\n",
        "        # termination criteria\n",
        "        criteria = (cv.TERM_CRITERIA_EPS + cv.TERM_CRITERIA_MAX_ITER, 30, 0.001)\n",
        "\n",
        "        # prepare object points, like (0,0,0), (1,0,0), (2,0,0) ....,(6,5,0)\n",
        "        pattern_size = (9, 6)\n",
        "        objp = np.zeros((pattern_size[0] * pattern_size[1], 3), np.float32)\n",
        "        objp[:, :2] = np.mgrid[0:pattern_size[0], 0:pattern_size[1]].T.reshape(-1, 2)\n",
        "        # Arrays to store object points and image points from all the images.\n",
        "        objpoints = [] # 3d point in real world space\n",
        "        imgpoints = [] # 2d points in image plane.\n",
        "\n",
        "        images = glob.glob(image_files + '/*.jpeg')\n",
        "\n",
        "        gray = None\n",
        "        for fname in images:\n",
        "            img = cv.imread(fname)\n",
        "            gray = cv.cvtColor(img, cv.COLOR_BGR2GRAY)\n",
        "            #print(f\"{'processing image '}{fname}\")\n",
        "\n",
        "            # Find the chess board corners\n",
        "            ret, corners = cv.findChessboardCorners(gray, pattern_size, None)\n",
        "\n",
        "            # If found, add object points, image points (after refining them)\n",
        "            if ret == True:\n",
        "                print(f\"{\"Processed \"}{fname}\")\n",
        "                objpoints.append(objp)\n",
        "\n",
        "                corners2 = cv.cornerSubPix(gray,corners, (11,11), (-1,-1), criteria)\n",
        "                imgpoints.append(corners2)\n",
        "        return(cv.calibrateCamera(objpoints, imgpoints, gray.shape[::-1], None, None))\n",
        "\n",
        "class NumpyEncoder(json.JSONEncoder):\n",
        "    def default(self, obj):\n",
        "        if isinstance(obj, np.ndarray):\n",
        "            return obj.tolist()\n",
        "        return json.JSONEncoder.default(self, obj)\n",
        "\n",
        "def calibrate_and_display(folder_path):\n",
        "    ret, mtx, dist, rvecs, tvecs = Calibration.calibrateCamera(folder_path)\n",
        "\n",
        "    files = glob.glob(os.path.join(folder_path, \"*.jpeg\")) + glob.glob(os.path.join(folder_path, \"*.JPEG\"))\n",
        "\n",
        "    results = {\n",
        "        \"return_value\": ret,\n",
        "        \"camera_matrix\": mtx,\n",
        "        \"distortion_coefficients\": dist,\n",
        "        \"rotation_vectors\": rvecs,\n",
        "        \"translation_vectors\": tvecs,\n",
        "        \"image_paths\": files\n",
        "    }\n",
        "    json_output = json.dumps(results, cls=NumpyEncoder, indent=4)\n",
        "\n",
        "    with open(\"calibration.json\", \"w\") as f:\n",
        "        f.write(json_output)\n",
        "\n",
        "    return json_output\n",
        "\n",
        "if in_colab():\n",
        "    calibrate_and_display(\"camera-pose-estimator/images\")\n",
        "else:\n",
        "    calibrate_and_display(\"images\")"
      ]
    },
    {
      "cell_type": "code",
      "execution_count": null,
      "metadata": {
        "id": "TcNTc1ggqBip"
      },
      "outputs": [],
      "source": [
        "class calib:\n",
        "  @staticmethod\n",
        "  def load_calibration(jsonPath:str='calibration.json'):\n",
        "    with open(jsonPath, 'r') as file:\n",
        "            calibrationDict = json.load(file)\n",
        "    #extracting k and distance coefficientse\n",
        "    k = calibrationDict['camera_matrix']\n",
        "    distanceCoeff = calibrationDict['distortion_coefficients']\n",
        "    return k, distanceCoeff\n"
      ]
    },
    {
      "cell_type": "markdown",
      "metadata": {
        "id": "idyYk5oNa29H"
      },
      "source": [
        "# Homography --> Pose (Explicit)"
      ]
    },
    {
      "cell_type": "code",
      "execution_count": null,
      "metadata": {
        "id": "pochTtova29H"
      },
      "outputs": [],
      "source": []
    },
    {
      "cell_type": "markdown",
      "metadata": {
        "id": "DpLb4teWa29H"
      },
      "source": [
        "# OpenCV Solution"
      ]
    },
    {
      "cell_type": "code",
      "execution_count": null,
      "metadata": {
        "id": "CLr-ZcUXa29H"
      },
      "outputs": [],
      "source": [
        "# Use cv.solvePnP to estimate pose from picked points\n",
        "def estimate_pose_opencv():\n",
        "    # Read selected points from json\n",
        "    with open('selected_points.json', 'r') as f:\n",
        "        selected_points = json.load(f)\n",
        "    image_points = np.array(selected_points, dtype=np.float32)\n",
        "    #print(f\"selected_points: {selected_points}\")\n",
        "\n",
        "    # Read camera matrix and distortion coefficients from json\n",
        "    with open('calibration.json', 'r') as f:\n",
        "        calib_data = json.load(f)\n",
        "    camera_matrix = np.array(calib_data['camera_matrix'], dtype=np.float32)\n",
        "    dist_coeffs = np.array(calib_data['distortion_coefficients'], dtype=np.float32)\n",
        "    #print(f\"camera_matrix: {camera_matrix}\")\n",
        "    #print(f\"dist_coeffs: {dist_coeffs}\")\n",
        "\n",
        "    # Calculate the model points, using pixels as units\n",
        "    model_points = np.array([[x, y, 0] for x, y in selected_points], dtype=np.float32) # Divide by 300 to scale it down\n",
        "    model_points = np.array(model_points, dtype=np.float32)\n",
        "\n",
        "    # Solve PnP\n",
        "    success, rotation_vector, translation_vector = cv.solvePnP(model_points, image_points, camera_matrix, dist_coeffs)\n",
        "    if not success:\n",
        "        raise RuntimeError(\"Failed to solve PnP\")\n",
        "    return rotation_vector, translation_vector\n",
        "\n",
        "# For testing purposes\n",
        "#estimate_pose_opencv()\n"
      ]
    },
    {
      "cell_type": "markdown",
      "metadata": {
        "id": "IhV2f4Aea29I"
      },
      "source": [
        "# Gradio Picker code"
      ]
    },
    {
      "cell_type": "code",
      "execution_count": null,
      "metadata": {
        "id": "eXeDhLacqJ85"
      },
      "outputs": [],
      "source": [
        "\n",
        "def launch_point_picker(my_image):\n",
        "    points_store = []\n",
        "    app = None\n",
        "    SELECTED_POINTS = None\n",
        "\n",
        "    def _to_pil_from_numpy(arr: np.ndarray) -> Image.Image:\n",
        "        arr = np.asarray(arr)\n",
        "        # channel-first -> channel-last\n",
        "        if arr.ndim == 3 and arr.shape[0] in (1,3,4) and arr.shape[-1] not in (1,3,4):\n",
        "            arr = np.transpose(arr, (1,2,0))\n",
        "        if np.issubdtype(arr.dtype, np.floating):\n",
        "            # scale floats in [0,1] to [0,255]\n",
        "            arr = (np.clip(arr, 0.0, 1.0) * 255.0).round().astype(np.uint8)\n",
        "        elif arr.dtype != np.uint8:\n",
        "            arr = np.clip(arr, 0, 255).astype(np.uint8)\n",
        "        # Choose mode\n",
        "        if arr.ndim == 2:\n",
        "            return Image.fromarray(arr, mode=\"L\")\n",
        "        if arr.ndim == 3 and arr.shape[2] == 3:\n",
        "            return Image.fromarray(arr, mode=\"RGB\")\n",
        "        if arr.ndim == 3 and arr.shape[2] == 4:\n",
        "            return Image.fromarray(arr, mode=\"RGBA\")\n",
        "        if arr.ndim == 3 and arr.shape[2] == 1:\n",
        "            return Image.fromarray(arr[:,:,0], mode=\"L\")\n",
        "        raise ValueError(f\"Unsupported array shape: {arr.shape}\")\n",
        "\n",
        "    def _to_pil(img):\n",
        "        if isinstance(img, Image.Image):\n",
        "            return img\n",
        "        if isinstance(img, np.ndarray):\n",
        "            return _to_pil_from_numpy(img)\n",
        "        raise gr.Error(\"Set `my_image` to a PIL image or NumPy array before launching.\")\n",
        "\n",
        "    def _draw_points(base_img: Image.Image, pts, radius=5):\n",
        "        img = base_img.copy().convert(\"RGB\")\n",
        "        d = ImageDraw.Draw(img)\n",
        "        for (x, y) in pts:\n",
        "            d.ellipse([x-radius, y-radius, x+radius, y+radius], outline=(255,0,0), width=2)\n",
        "        return img\n",
        "\n",
        "    # Prepare base image from notebook variable\n",
        "    # if 'my_image' not in globals():\n",
        "        # raise RuntimeError(\"Please define `my_image` (PIL image or NumPy array) before running this cell.\")\n",
        "    # base_pil = _to_pil(globals()['my_image'])\n",
        "    base_pil = _to_pil(my_image)\n",
        "\n",
        "    def _refresh_numpy():\n",
        "        \"\"\"Return current preview (base + points) as numpy for Gradio.\"\"\"\n",
        "        return np.array(_draw_points(base_pil, points_store))\n",
        "\n",
        "    def on_click(evt: gr.SelectData):\n",
        "        # Get coordinates robustly\n",
        "        x = y = None\n",
        "        if hasattr(evt, \"index\") and evt.index is not None:\n",
        "            try: x, y = evt.index\n",
        "            except: pass\n",
        "        if (x is None or y is None) and hasattr(evt, \"x\") and hasattr(evt, \"y\"):\n",
        "            x, y = evt.x, evt.y\n",
        "        if x is None or y is None:\n",
        "            return gr.update(), json.dumps(points_store)\n",
        "\n",
        "        # Clamp to image bounds\n",
        "        w, h = base_pil.size\n",
        "        x = int(max(0, min(w-1, x)))\n",
        "        y = int(max(0, min(h-1, y)))\n",
        "\n",
        "        points_store.append([x, y])\n",
        "        return _refresh_numpy(), json.dumps(points_store)\n",
        "\n",
        "    def undo_last():\n",
        "        if points_store:\n",
        "            points_store.pop()\n",
        "        return _refresh_numpy(), json.dumps(points_store)\n",
        "\n",
        "    def clear_points():\n",
        "        points_store.clear()\n",
        "        return np.array(base_pil), \"[]\"\n",
        "\n",
        "    def done_btn_click():\n",
        "        \"\"\"Save to notebook var `selected_points` and close the app.\"\"\"\n",
        "        global SELECTED_POINTS\n",
        "        SELECTED_POINTS = [list(p) for p in points_store]\n",
        "        try:\n",
        "            ip = get_ipython()\n",
        "            if ip is not None:\n",
        "                ip.user_ns['selected_points'] = SELECTED_POINTS\n",
        "        except Exception:\n",
        "            pass\n",
        "        # threading.Thread(target=lambda: app.close(), daemon=True).start()\n",
        "        with open('selected_points.json', 'w') as f:\n",
        "            json.dump(SELECTED_POINTS, f)\n",
        "\n",
        "        # Use OpenCV to calculate camera pose\n",
        "        rotation_vector, translation_vector = estimate_pose_opencv()\n",
        "\n",
        "        # Plot the cameras\n",
        "        Visualizer.visualize(rotation_vector, translation_vector)\n",
        "        return f\"✅ Saved {len(SELECTED_POINTS)} points to `selected_points`. Closing…\"\n",
        "\n",
        "\n",
        "    with gr.Blocks(title=\"Point Picker (single image)\") as demo:\n",
        "        gr.Markdown(\"**Click on the image to add points.** Use Undo / Clear as needed, then press **Done**.\")\n",
        "        img = gr.Image(\n",
        "            value=np.array(base_pil), label=\"Image (click to add points)\",\n",
        "            type=\"numpy\", interactive=True, sources=[]  # sources=[] disables uploads\n",
        "        )\n",
        "        with gr.Row():\n",
        "            undo_btn = gr.Button(\"↩️ Undo\")\n",
        "            clear_btn = gr.Button(\"🧹 Clear\")\n",
        "            done_btn = gr.Button(\"✅ Done\", variant=\"primary\")\n",
        "        pts_text = gr.Textbox(label=\"Points (JSON)\", value=\"[]\", interactive=False)\n",
        "        status = gr.Markdown(\"\")\n",
        "\n",
        "        # One image used for both input and output\n",
        "        img.select(on_click, inputs=None, outputs=[img, pts_text])\n",
        "        undo_btn.click(lambda: undo_last(), outputs=[img, pts_text])\n",
        "        clear_btn.click(lambda: clear_points(), outputs=[img, pts_text])\n",
        "        done_btn.click(done_btn_click, outputs=[status])\n",
        "\n",
        "\n",
        "        app = demo.launch(inline=True, prevent_thread_lock=True)\n",
        "        return app"
      ]
    },
    {
      "cell_type": "markdown",
      "metadata": {
        "id": "5Tbee3gsa29I"
      },
      "source": [
        "# Launch Gradio Interface"
      ]
    },
    {
      "cell_type": "code",
      "execution_count": null,
      "metadata": {
        "colab": {
          "base_uri": "https://localhost:8080/",
          "height": 666
        },
        "id": "u6O4WBM7qlU2",
        "outputId": "6891d9dc-12b6-4ec3-fdfc-4d488a318e11"
      },
      "outputs": [
        {
          "name": "stdout",
          "output_type": "stream",
          "text": [
            "* Running on local URL:  http://127.0.0.1:7860\n",
            "* To create a public link, set `share=True` in `launch()`.\n"
          ]
        },
        {
          "data": {
            "text/html": [
              "<div><iframe src=\"http://127.0.0.1:7860/\" width=\"100%\" height=\"500\" allow=\"autoplay; camera; microphone; clipboard-read; clipboard-write;\" frameborder=\"0\" allowfullscreen></iframe></div>"
            ],
            "text/plain": [
              "<IPython.core.display.HTML object>"
            ]
          },
          "metadata": {},
          "output_type": "display_data"
        },
        {
          "name": "stdout",
          "output_type": "stream",
          "text": [
            "[]\n"
          ]
        }
      ],
      "source": [
        "# my_image can be a PIL.Image or a NumPy array (H,W[,C])\n",
        "from PIL import Image\n",
        "if in_colab():\n",
        "    my_image = Image.open(\"camera-pose-estimator\" + \"/\" + \"DSCN0851.JPG\")\n",
        "else:\n",
        "    my_image = Image.open(\"DSCN0851.JPG\")\n",
        "\n",
        "selected_points = []\n",
        "\n",
        "app = launch_point_picker(my_image)   # launches inline, non-blocking\n",
        "\n",
        "# ... later, after clicking points and pressing \"Done\":\n",
        "print(selected_points)  # list of [x, y] pixel coordinates\n"
      ]
    },
    {
      "cell_type": "code",
      "execution_count": null,
      "metadata": {
        "colab": {
          "base_uri": "https://localhost:8080/"
        },
        "id": "rEtEefQLb7_t",
        "outputId": "ad56fc4a-d6db-490a-ff5c-614f9788c8a4"
      },
      "outputs": [
        {
          "name": "stdout",
          "output_type": "stream",
          "text": [
            "[[1697, 741], [2797, 832], [3333, 3030], [1374, 3053]]\n"
          ]
        }
      ],
      "source": [
        "print(selected_points)"
      ]
    },
    {
      "cell_type": "markdown",
      "metadata": {
        "id": "s1m86Ry0a29I"
      },
      "source": [
        "# Display the 3D plot\n",
        "### For some reason this will not display after clicking \"Done\" in gradio, so run this cell instead"
      ]
    },
    {
      "cell_type": "code",
      "source": [
        "\n",
        "\n",
        "def extractExtrinsicParametersFromHomography(Phi, Lambda_inverse):\n",
        "    \"\"\"\n",
        "    extractExtrinsicParametersFromHomography factorizes the homograpgy transformation to extract the camera pose,\n",
        "                                             i.e., rotation matrix and translation vector.\n",
        "\n",
        "    Input arguments:\n",
        "    ------------------\n",
        "        Phi:    3x3 homography matrix\n",
        "        Lambda: 3x3 intrinsics matrix\n",
        "\n",
        "    return:\n",
        "    -------\n",
        "        Omega: 3x3 Rotation matrix,\n",
        "        tau:   3x1 translation vector\n",
        "\n",
        "    \"\"\"\n",
        "\n",
        "    homography = Phi\n",
        "    inverse_intrinsic_camera_matrix = Lambda_inverse\n",
        "\n",
        "    # # Use openCV to estimate the camera's position and orientation\n",
        "    # _, rotation, translation, _ = cv.decomposeHomographyMat(\n",
        "    #     homography, camera_matrix)\n",
        "\n",
        "    # # Add the rotation matrix and translation vector to the list of camera poses\n",
        "    # camera_rotations.append(rotation)\n",
        "    # camera_translations.append(translation)\n",
        "\n",
        "    # Multiply the homography matrix by the inverse intrinsic camera matrix to eliminiate the effect\n",
        "    # of the camera's intrinsic parameters\n",
        "    homography_extrinsic = np.dot(inverse_intrinsic_camera_matrix, homography)\n",
        "\n",
        "    # Estimate the first two columns of the rotation matrix by computing the SVD of the first two\n",
        "    # columns of the homography matrix\n",
        "    U, L, Vt = np.linalg.svd(homography_extrinsic[:, 0:2])\n",
        "    new_L = np.array([[1, 0], [0, 1], [0, 0]])\n",
        "    rotation_matrix = U @ new_L @ Vt\n",
        "\n",
        "    # Estimate the third column of the rotation matrix by taking the cross product of the first two\n",
        "    # columns\n",
        "    third_column = np.cross(rotation_matrix[:, 0], rotation_matrix[:, 1])\n",
        "\n",
        "\n",
        "    rotation_matrix = np.c_[rotation_matrix, third_column]\n",
        "\n",
        "    # Verify that the rotation matrix is positive by checking its determinant\n",
        "    if np.linalg.det(rotation_matrix) < 0:\n",
        "        rotation_matrix[:, 2] *= -1\n",
        "\n",
        "    # Estimate the scaling factor by taking the average of the scaling factors between the original\n",
        "    # extrinsic homography matrix and the first two columns of the rotation matrix\n",
        "    scaling_factor = np.sum(homography_extrinsic[:, 0:2] / rotation_matrix[:, 0:2]) / 6\n",
        "\n",
        "    # Estimate the translation vector by dividing the third column of the extrinsic homography\n",
        "    # matrix by the scaling factor\n",
        "    translation = homography_extrinsic[:, 2] / scaling_factor\n",
        "\n",
        "    # Rotation and translatioin\n",
        "    Omega = rotation_matrix\n",
        "    tau = translation\n",
        "\n",
        "    return Omega, tau\n",
        "\n"
      ],
      "metadata": {
        "id": "Gu8CfTIeelgR"
      },
      "execution_count": 14,
      "outputs": []
    },
    {
      "cell_type": "code",
      "source": [
        "# object is 18 1/2 x 11\n",
        "refrencePoints = [[0,0],\n",
        "                  [0,18.5],\n",
        "                  [11,18.5],\n",
        "                  [11,0]]\n",
        "h, mask = cv.findHomography(np.array(refrencePoints), np.array(selected_points))\n",
        "print(h)\n",
        "# Read camera matrix and distortion coefficients from json\n",
        "with open('calibration.json', 'r') as f:\n",
        "  calib_data = json.load(f)\n",
        "mtx = np.array(calib_data['camera_matrix'], dtype=np.float32)\n",
        "\n",
        "print(camera_matrix)"
      ],
      "metadata": {
        "colab": {
          "base_uri": "https://localhost:8080/"
        },
        "id": "xnnrQ0DSfqOQ",
        "outputId": "c44faaa4-240a-4cda-e912-c1b5a85dd457"
      },
      "execution_count": 20,
      "outputs": [
        {
          "output_type": "stream",
          "name": "stdout",
          "text": [
            "[[-3.33792301e+02  6.56015317e+01  1.69700000e+03]\n",
            " [-2.31435885e+02  6.53587426e+00  7.43000000e+02]\n",
            " [-1.44802689e-01  2.27650858e-03  1.00000000e+00]]\n",
            "[[3.0363083e+03 0.0000000e+00 2.2838394e+03]\n",
            " [0.0000000e+00 3.0371665e+03 1.6451670e+03]\n",
            " [0.0000000e+00 0.0000000e+00 1.0000000e+00]]\n"
          ]
        }
      ]
    },
    {
      "cell_type": "code",
      "source": [
        "from cvxopt import matrix\n",
        "# Calculate the inverse of the intrinsic camera matrix\n",
        "inverse_intrinsic_camera_matrix = np.linalg.inv(mtx)\n",
        "\n",
        "camera_rotations = []\n",
        "camera_translations = []\n",
        "\n",
        "rotation_matrix, translation = extractExtrinsicParametersFromHomography(h, inverse_intrinsic_camera_matrix)\n",
        "\n",
        "    # Add the rotation matrix and translation vector to the list of camera poses\n",
        "camera_rotations.append(rotation_matrix)\n",
        "camera_translations.append(translation)\n",
        "\n",
        "# Reference frame\n",
        "camera_rotations.append(np.eye(3))\n",
        "camera_translations.append(np.array([0, 0, 0]))\n",
        "\n",
        "\n",
        "# Print the camera poses\n",
        "for i, (rotation, translation) in enumerate(zip(camera_rotations, camera_translations)):\n",
        "    print(\"--------------------------------------\")\n",
        "    print(\"Camera pose {}:\".format(i))\n",
        "    print(\"--------------------------------------\\n\")\n",
        "    print(\"Rotation:\")\n",
        "    print(matrix(rotation))\n",
        "    print(\"Translation:\")\n",
        "    print(matrix(translation))"
      ],
      "metadata": {
        "colab": {
          "base_uri": "https://localhost:8080/"
        },
        "id": "IyZXAVhCex8J",
        "outputId": "e08f2b36-0674-453e-b4b3-75697b4da2ba"
      },
      "execution_count": 23,
      "outputs": [
        {
          "output_type": "stream",
          "name": "stdout",
          "text": [
            "--------------------------------------\n",
            "Camera pose 0:\n",
            "--------------------------------------\n",
            "\n",
            "Rotation:\n",
            "[ 7.54e-03  9.99e-01  4.79e-02]\n",
            "[ 1.61e-02  4.78e-02 -9.99e-01]\n",
            "[-1.00e+00  8.31e-03 -1.58e-02]\n",
            "\n",
            "Translation:\n",
            "[-2.51e+00]\n",
            "[-3.86e+00]\n",
            "[ 1.30e+01]\n",
            "\n",
            "--------------------------------------\n",
            "Camera pose 1:\n",
            "--------------------------------------\n",
            "\n",
            "Rotation:\n",
            "[ 1.00e+00  0.00e+00  0.00e+00]\n",
            "[ 0.00e+00  1.00e+00  0.00e+00]\n",
            "[ 0.00e+00  0.00e+00  1.00e+00]\n",
            "\n",
            "Translation:\n",
            "[ 0]\n",
            "[ 0]\n",
            "[ 0]\n",
            "\n"
          ]
        }
      ]
    },
    {
      "cell_type": "markdown",
      "source": [],
      "metadata": {
        "id": "8idPhBihexun"
      }
    },
    {
      "cell_type": "code",
      "execution_count": 15,
      "metadata": {
        "colab": {
          "base_uri": "https://localhost:8080/",
          "height": 547
        },
        "id": "2iOEjNFia29I",
        "outputId": "30758062-cb51-4858-df70-f4f2b5e7e11a"
      },
      "outputs": [
        {
          "output_type": "display_data",
          "data": {
            "text/plain": [
              "<Figure size 640x480 with 1 Axes>"
            ],
            "image/png": "[encoded data removed]"
          },
          "metadata": {}
        },
        {
          "output_type": "stream",
          "name": "stdout",
          "text": [
            "Rotation Vector: [[-5.64193630e-03]\n",
            " [-1.25549233e-03]\n",
            " [ 1.52479164e-05]]\n",
            "Translation Vector: [[-2283.52531398]\n",
            " [-1640.53944344]\n",
            " [ 3050.79418791]]\n"
          ]
        }
      ],
      "source": [
        "class Visualizer:\n",
        "    def visualize(rotation_vector, translation_vector):\n",
        "        sensor_size = (4608, 3456) # maybe change this in case the images are different sizes?\n",
        "        virtual_image_distance = .8\n",
        "        with open(\"calibration.json\", \"r\") as file:\n",
        "            views = json.load(file)\n",
        "\n",
        "        Lambda = np.array(views.get(\"camera_matrix\")).reshape(3,3)\n",
        "        Omega = np.array(rotation_vector)\n",
        "        tau = np.array(translation_vector)\n",
        "        dist = np.array(views.get(\"distortion_coefficients\"))\n",
        "\n",
        "        # Convert to a rotation matrix from a vector\n",
        "        Omega, _ = cv.Rodrigues(Omega)\n",
        "\n",
        "        # Camera pose, i.e., the matrix [R t] of extrinsic parameters\n",
        "        Rt = np.block([Omega.T, -Omega.T @ tau.reshape(3, 1)])\n",
        "\n",
        "        # Convert Rt from 3x4 to a 4x4 transformation matrix\n",
        "        Rt = np.vstack([Rt, [0, 0, 0, 1]])\n",
        "\n",
        "        cam2world = Rt\n",
        "        fig = plt.figure()\n",
        "        ax = fig.add_subplot(111, projection='3d')\n",
        "\n",
        "        # Increased the size of the plotted camera pose\n",
        "        #ax = pt.plot_transform(ax=ax, A2B=cam2world, s=500)\n",
        "        scale = 30  # increase to make the plotted camera bigger\n",
        "        pc.plot_camera(\n",
        "            ax,\n",
        "            cam2world=cam2world,\n",
        "            M=Lambda,\n",
        "            sensor_size=(int(sensor_size[0]*scale), int(sensor_size[1]*scale)),\n",
        "            virtual_image_distance=virtual_image_distance * scale,\n",
        "        )\n",
        "\n",
        "        # plot points selected\n",
        "        points_2d = selected_points\n",
        "        points_3d = []\n",
        "        for point_2d in points_2d:\n",
        "            point_hom = np.array([point_2d[0], point_2d[1], 1.0])\n",
        "            # Invert the camera matrix\n",
        "            Lambda_inv = np.linalg.inv(Lambda)\n",
        "            # Point in camera coordinates (up to a scale factor)\n",
        "            point_cam = Lambda_inv @ point_hom\n",
        "            R_inv = Omega.T\n",
        "            t = tau.reshape(3, 1)\n",
        "            point_cam_reshaped = point_cam.reshape(3, 1)\n",
        "            RT_point_cam = R_inv @ point_cam_reshaped\n",
        "            if RT_point_cam[2, 0] != 0:\n",
        "                alpha = -t[2, 0] / RT_point_cam[2, 0]\n",
        "                point_world = alpha * RT_point_cam + t\n",
        "                points_3d.append(point_world[:3, 0]) # Append only the x, y, z coordinates\n",
        "\n",
        "        points_3d = np.array(points_3d)\n",
        "\n",
        "        # Include the camera translation vector in the points for limit calculation\n",
        "        all_points = np.vstack((points_3d, tau.reshape(1, 3)))\n",
        "\n",
        "        if len(all_points) > 0:\n",
        "            if len(points_3d) > 0:\n",
        "                 ax.scatter(points_3d[:, 0], points_3d[:, 1], points_3d[:, 2], c='r', marker='o')\n",
        "\n",
        "\n",
        "            # Calculate limits based on all points (including camera translation)\n",
        "            max_range = np.array([all_points[:,0].max()-all_points[:,0].min(),\n",
        "                                  all_points[:,1].max()-all_points[:,1].min(),\n",
        "                                  all_points[:,2].max()-all_points[:,2].min()]).max() / 2.0\n",
        "\n",
        "            mid_x = (all_points[:,0].max()+all_points[:,0].min()) * 0.5\n",
        "            mid_y = (all_points[:,1].max()+all_points[:,1].min()) * 0.5\n",
        "            mid_z = (all_points[:,2].max()+all_points[:,2].min()) * 0.5\n",
        "\n",
        "            spaceSize = 3000\n",
        "\n",
        "            ax.set_xlim(-spaceSize, spaceSize)\n",
        "            ax.set_ylim(-spaceSize, spaceSize)\n",
        "            ax.set_zlim(-spaceSize, spaceSize)\n",
        "\n",
        "            # Set initial view based on translation vector\n",
        "            # The elev and azim angles are in degrees\n",
        "            elev = np.arctan2(tau[2,0], np.sqrt(tau[0,0]**2 + tau[1,0]**2)) * 180/np.pi\n",
        "            azim = np.arctan2(tau[1,0], tau[0,0]) * 180/np.pi\n",
        "            ax.view_init(elev=elev, azim=azim)\n",
        "\n",
        "\n",
        "        ax.invert_zaxis() # It looks upside down without this\n",
        "        #plt.savefig(\"pose_plot.png\")\n",
        "        #display(Image(filename=\"pose_plot.png\"))\n",
        "\n",
        "\n",
        "        plt.show()\n",
        "        print(f\"Rotation Vector: {rotation_vector}\")\n",
        "        print(f\"Translation Vector: {translation_vector}\")\n",
        "\n",
        "rotation_vector, translation_vector = estimate_pose_opencv()\n",
        "Visualizer.visualize(rotation_vector, translation_vector)"
      ]
    }
  ],
  "metadata": {
    "colab": {
      "provenance": []
    },
    "kernelspec": {
      "display_name": "cv-env-pip",
      "language": "python",
      "name": "python3"
    },
    "language_info": {
      "codemirror_mode": {
        "name": "ipython",
        "version": 3
      },
      "file_extension": ".py",
      "mimetype": "text/x-python",
      "name": "python",
      "nbconvert_exporter": "python",
      "pygments_lexer": "ipython3",
      "version": "3.13.5"
    }
  },
  "nbformat": 4,
  "nbformat_minor": 0
}